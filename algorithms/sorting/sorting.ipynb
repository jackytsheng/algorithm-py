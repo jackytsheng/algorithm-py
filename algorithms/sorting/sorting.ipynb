{
 "cells": [
  {
   "cell_type": "code",
   "execution_count": 26,
   "metadata": {},
   "outputs": [
    {
     "name": "stdout",
     "output_type": "stream",
     "text": [
      "Test Case Name:test_1\n",
      "Elements Length in array 0\n",
      "Execution takes 0.0000 seconds\n",
      "Test Case Name:test_2\n",
      "Elements Length in array 1\n",
      "Execution takes 0.0000 seconds\n",
      "Test Case Name:test_3\n",
      "Elements Length in array 5\n",
      "Execution takes 0.0000 seconds\n",
      "Test Case Name:test_4\n",
      "Elements Length in array 5\n",
      "Execution takes 0.0000 seconds\n",
      "Test Case Name:test_5\n",
      "Elements Length in array 5\n",
      "Execution takes 0.0000 seconds\n",
      "Test Case Name:test_6\n",
      "Elements Length in array 10000\n",
      "Execution takes 2.4019 seconds\n"
     ]
    }
   ],
   "source": [
    "%reload_ext autoreload\n",
    "%autoreload 2\n",
    "import random\n",
    "\n",
    "from sorting import in_place_int_bubble_sort\n",
    "\n",
    "random_array = [random.randint(1, 10000) for _ in range(10000)]\n",
    "test_cases = {\n",
    "    'test_1' : [],\n",
    "    'test_2' : [1],\n",
    "    'test_3' : [5,4,3,2,1],\n",
    "    'test_4' : [1,2,3,4,5],\n",
    "    'test_5' : [3.14, 2.5, 1.618, 4.2, 0.1],\n",
    "    'test_6' : random_array\n",
    "}\n",
    "\n",
    "print(\"--- Bubble Sort ---\")\n",
    "for test_case in test_cases:\n",
    "    print(\"Test Case Name:{}\".format(test_case))\n",
    "    in_place_int_bubble_sort(test_cases[test_case],True)\n",
    "\n",
    "print(\"--- Merge Sort ---\")\n",
    "for test_case in test_cases:\n",
    "    print(\"Test Case Name:{}\".format(test_case))\n",
    "    in_place_int_bubble_sort(test_cases[test_case],True)\n",
    "\n",
    "print(\"--- Quick Sort ---\")\n",
    "for test_case in test_cases:\n",
    "    print(\"Test Case Name:{}\".format(test_case))\n",
    "    in_place_int_bubble_sort(test_cases[test_case],True)\n",
    "\n",
    "print(\"--- Insert Sort ---\")\n",
    "for test_case in test_cases:\n",
    "    print(\"Test Case Name:{}\".format(test_case))\n",
    "    in_place_int_bubble_sort(test_cases[test_case],True)"
   ]
  }
 ],
 "metadata": {
  "kernelspec": {
   "display_name": "Python 3",
   "language": "python",
   "name": "python3"
  },
  "language_info": {
   "codemirror_mode": {
    "name": "ipython",
    "version": 3
   },
   "file_extension": ".py",
   "mimetype": "text/x-python",
   "name": "python",
   "nbconvert_exporter": "python",
   "pygments_lexer": "ipython3",
   "version": "3.11.2"
  },
  "orig_nbformat": 4
 },
 "nbformat": 4,
 "nbformat_minor": 2
}
