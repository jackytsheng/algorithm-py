{
 "cells": [
  {
   "attachments": {},
   "cell_type": "markdown",
   "metadata": {},
   "source": [
    "## Tree"
   ]
  },
  {
   "attachments": {},
   "cell_type": "markdown",
   "metadata": {},
   "source": [
    "### Binary Tree"
   ]
  },
  {
   "cell_type": "code",
   "execution_count": 22,
   "metadata": {},
   "outputs": [
    {
     "name": "stdout",
     "output_type": "stream",
     "text": [
      "True\n",
      "False\n",
      "1-2-4-5-3\n"
     ]
    }
   ],
   "source": [
    "from data_structure.tree import BinaryTree,Node\n",
    "\n",
    "# Set up tree\n",
    "tree = BinaryTree(1)\n",
    "tree.root.left = Node(2)\n",
    "tree.root.right = Node(3)\n",
    "tree.root.left.left = Node(4)\n",
    "tree.root.left.right = Node(5)\n",
    "\n",
    "# Test search\n",
    "# Should be True\n",
    "print(tree.search(4))\n",
    "# Should be False\n",
    "print(tree.search(6))\n",
    "\n",
    "# Test print_tree\n",
    "# Should be 1-2-4-5-3\n",
    "print(tree.print_tree())"
   ]
  },
  {
   "attachments": {},
   "cell_type": "markdown",
   "metadata": {},
   "source": [
    "### BST"
   ]
  },
  {
   "cell_type": "code",
   "execution_count": 23,
   "metadata": {},
   "outputs": [
    {
     "name": "stdout",
     "output_type": "stream",
     "text": [
      "preorder: 4-2-1-3-5\n",
      "True\n",
      "False\n"
     ]
    }
   ],
   "source": [
    "from data_structure.tree import BST\n",
    "# Set up tree\n",
    "tree = BST(4)\n",
    "\n",
    "# Insert elements\n",
    "tree.insert(2)\n",
    "tree.insert(1)\n",
    "tree.insert(3)\n",
    "tree.insert(5)\n",
    "\n",
    "\n",
    "# Should be preorder: 4-2-1-3-5\n",
    "print(tree)\n",
    "# Check search\n",
    "\n",
    "# Should be True\n",
    "print(tree.search(4))\n",
    "# Should be False\n",
    "print(tree.search(6))"
   ]
  },
  {
   "attachments": {},
   "cell_type": "markdown",
   "metadata": {},
   "source": [
    "## Grpah"
   ]
  },
  {
   "cell_type": "code",
   "execution_count": 24,
   "metadata": {},
   "outputs": [
    {
     "name": "stdout",
     "output_type": "stream",
     "text": [
      "Edge List\n",
      "[ (51, 'Mountain View', 'San Francisco'),\n",
      "  (51, 'San Francisco', 'Mountain View'),\n",
      "  (9950, 'Mountain View', 'Shanghai'),\n",
      "  (9950, 'Shanghai', 'Mountain View'),\n",
      "  (10375, 'Mountain View', 'Sao Paolo'),\n",
      "  (10375, 'Sao Paolo', 'Mountain View'),\n",
      "  (9900, 'San Francisco', 'Shanghai'),\n",
      "  (9900, 'Shanghai', 'San Francisco'),\n",
      "  (9130, 'San Francisco', 'Berlin'),\n",
      "  (9130, 'Berlin', 'San Francisco'),\n",
      "  (9217, 'London', 'Shanghai'),\n",
      "  (9217, 'Shanghai', 'London'),\n",
      "  (932, 'London', 'Berlin'),\n",
      "  (932, 'Berlin', 'London'),\n",
      "  (9471, 'London', 'Sao Paolo'),\n",
      "  (9471, 'Sao Paolo', 'London')]\n",
      "Adjacency List\n",
      "[ <map object at 0x116fecc70>,\n",
      "  <map object at 0x116fed330>,\n",
      "  <map object at 0x116fecd00>,\n",
      "  <map object at 0x116fed2a0>,\n",
      "  <map object at 0x116fed240>,\n",
      "  <map object at 0x116feceb0>,\n",
      "  None]\n",
      "Adjacency Matrix\n",
      "[ [0, 51, 0, 9950, 0, 10375, 0],\n",
      "  [51, 0, 0, 9900, 9130, 0, 0],\n",
      "  [0, 0, 0, 9217, 932, 9471, 0],\n",
      "  [9950, 9900, 9217, 0, 0, 0, 0],\n",
      "  [0, 9130, 932, 0, 0, 0, 0],\n",
      "  [10375, 0, 9471, 0, 0, 0, 0],\n",
      "  [0, 0, 0, 0, 0, 0, 0]]\n",
      "Depth First Search\n",
      "['London', 'Shanghai', 'Mountain View', 'San Francisco', 'Berlin', 'Sao Paolo']\n",
      "Breadth First Search\n",
      "['London', 'Shanghai', 'Berlin', 'Sao Paolo', 'Mountain View', 'San Francisco']\n"
     ]
    }
   ],
   "source": [
    "%reload_ext autoreload\n",
    "%autoreload 2\n",
    "from data_structure.graph import Graph\n",
    "\n",
    "graph = Graph()\n",
    "\n",
    "# You do not need to change anything below this line.\n",
    "# You only need to implement Graph.dfs_helper and Graph.bfs\n",
    "\n",
    "graph.set_node_names(('Mountain View',   # 0\n",
    "                      'San Francisco',   # 1\n",
    "                      'London',          # 2\n",
    "                      'Shanghai',        # 3\n",
    "                      'Berlin',          # 4\n",
    "                      'Sao Paolo',       # 5\n",
    "                      'Bangalore'))      # 6 \n",
    "\n",
    "graph.insert_edge(51, 0, 1)     # MV <-> SF\n",
    "graph.insert_edge(51, 1, 0)     # SF <-> MV\n",
    "graph.insert_edge(9950, 0, 3)   # MV <-> Shanghai\n",
    "graph.insert_edge(9950, 3, 0)   # Shanghai <-> MV\n",
    "graph.insert_edge(10375, 0, 5)  # MV <-> Sao Paolo\n",
    "graph.insert_edge(10375, 5, 0)  # Sao Paolo <-> MV\n",
    "graph.insert_edge(9900, 1, 3)   # SF <-> Shanghai\n",
    "graph.insert_edge(9900, 3, 1)   # Shanghai <-> SF\n",
    "graph.insert_edge(9130, 1, 4)   # SF <-> Berlin\n",
    "graph.insert_edge(9130, 4, 1)   # Berlin <-> SF\n",
    "graph.insert_edge(9217, 2, 3)   # London <-> Shanghai\n",
    "graph.insert_edge(9217, 3, 2)   # Shanghai <-> London\n",
    "graph.insert_edge(932, 2, 4)    # London <-> Berlin\n",
    "graph.insert_edge(932, 4, 2)    # Berlin <-> London\n",
    "graph.insert_edge(9471, 2, 5)   # London <-> Sao Paolo\n",
    "graph.insert_edge(9471, 5, 2)   # Sao Paolo <-> London\n",
    "# (6) 'Bangalore' is intentionally disconnected (no edges)\n",
    "# for this problem and should produce None in the\n",
    "# Adjacency List, etc.\n",
    "\n",
    "import pprint\n",
    "pp = pprint.PrettyPrinter(indent=2)\n",
    "\n",
    "print(\"Edge List\")\n",
    "pp.pprint(graph.get_edge_list_names())\n",
    "\n",
    "print(\"Adjacency List\")\n",
    "pp.pprint(graph.get_adjacency_list_names())\n",
    "\n",
    "print(\"Adjacency Matrix\")\n",
    "pp.pprint(graph.get_adjacency_matrix())\n",
    "\n",
    "print(\"Depth First Search\")\n",
    "pp.pprint(graph.dfs_names(2))\n",
    "\n",
    "# Should print:\n",
    "# Depth First Search\n",
    "# ['London', 'Shanghai', 'Mountain View', 'San Francisco', 'Berlin', 'Sao Paolo']\n",
    "\n",
    "print(\"Breadth First Search\")\n",
    "pp.pprint(graph.bfs_names(2))\n",
    "\n",
    "# Should print:\n",
    "# Breadth First Search\n",
    "# ['London', 'Shanghai', 'Berlin', 'Sao Paolo', 'Mountain View', 'San Francisco']\n",
    "# graph.plot_graph('lightblue',2000,True)"
   ]
  }
 ],
 "metadata": {
  "kernelspec": {
   "display_name": "Python 3",
   "language": "python",
   "name": "python3"
  },
  "language_info": {
   "codemirror_mode": {
    "name": "ipython",
    "version": 3
   },
   "file_extension": ".py",
   "mimetype": "text/x-python",
   "name": "python",
   "nbconvert_exporter": "python",
   "pygments_lexer": "ipython3",
   "version": "3.11.2"
  },
  "orig_nbformat": 4
 },
 "nbformat": 4,
 "nbformat_minor": 2
}
