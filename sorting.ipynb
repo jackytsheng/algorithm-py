{
 "cells": [
  {
   "cell_type": "markdown",
   "metadata": {},
   "source": [
    "## Sorting\n",
    "Sorting algorithm"
   ]
  },
  {
   "cell_type": "markdown",
   "metadata": {},
   "source": [
    "### Quick Sort\n",
    "- Choose last item as \"pivot\"\n",
    "- Iterate through all item then put them to either left (less than pivot) or right (greater than pivot)\n",
    "- Lock the pivot point\n",
    "- Do the above steps for either the left or right left over number in an array"
   ]
  },
  {
   "cell_type": "markdown",
   "metadata": {},
   "source": [
    "### Complexity \n",
    "- O(n^2) worst case\n",
    "- O(nlogn) average case"
   ]
  },
  {
   "cell_type": "code",
   "execution_count": 34,
   "metadata": {},
   "outputs": [],
   "source": [
    "counter = 1\n",
    "def quick_sort(print_line:str,arr: list) -> list:\n",
    "  global counter\n",
    "  print(print_line,arr,\"for input of length : \",len(arr),\" Current Execution: \",counter)\n",
    "  counter += 1\n",
    "  \n",
    "  if len(arr) <= 1:\n",
    "    return arr\n",
    "  \n",
    "  pivot = arr.pop()\n",
    "  left_arr =[]\n",
    "  right_arr =[]\n",
    "  for n in arr:\n",
    "    if n < pivot :\n",
    "      left_arr.append(n)\n",
    "    else:\n",
    "      right_arr.append(n)\n",
    "  \n",
    "  return  quick_sort(\"left : \",left_arr) + [pivot] + quick_sort(\"right: \",right_arr)\n",
    "\n"
   ]
  },
  {
   "cell_type": "code",
   "execution_count": 35,
   "metadata": {},
   "outputs": [
    {
     "name": "stdout",
     "output_type": "stream",
     "text": [
      "Initial Input:  [1, 5, 6, 7, 9, 0] for input of length :  6  Current Execution:  1\n",
      "left :  [] for input of length :  0  Current Execution:  2\n",
      "right:  [1, 5, 6, 7, 9] for input of length :  5  Current Execution:  3\n",
      "left :  [1, 5, 6, 7] for input of length :  4  Current Execution:  4\n",
      "left :  [1, 5, 6] for input of length :  3  Current Execution:  5\n",
      "left :  [1, 5] for input of length :  2  Current Execution:  6\n",
      "left :  [1] for input of length :  1  Current Execution:  7\n",
      "right:  [] for input of length :  0  Current Execution:  8\n",
      "right:  [] for input of length :  0  Current Execution:  9\n",
      "right:  [] for input of length :  0  Current Execution:  10\n",
      "right:  [] for input of length :  0  Current Execution:  11\n",
      "[0, 1, 5, 6, 7, 9]\n"
     ]
    }
   ],
   "source": [
    "# test case 1\n",
    "test1 = [1,5,6,7,9,0]\n",
    "print(quick_sort(\"Initial Input: \",test1))\n",
    "# test case 1\n",
    "# test case 1\n",
    "# test case 1"
   ]
  }
 ],
 "metadata": {
  "kernelspec": {
   "display_name": "Python 3.9.5 64-bit",
   "language": "python",
   "name": "python3"
  },
  "language_info": {
   "codemirror_mode": {
    "name": "ipython",
    "version": 3
   },
   "file_extension": ".py",
   "mimetype": "text/x-python",
   "name": "python",
   "nbconvert_exporter": "python",
   "pygments_lexer": "ipython3",
   "version": "3.9.5"
  },
  "orig_nbformat": 4,
  "vscode": {
   "interpreter": {
    "hash": "81794d4967e6c3204c66dcd87b604927b115b27c00565d3d43f05ba2f3a2cb0d"
   }
  }
 },
 "nbformat": 4,
 "nbformat_minor": 2
}
