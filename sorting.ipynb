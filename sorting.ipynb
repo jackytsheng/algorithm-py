{
 "cells": [
  {
   "cell_type": "markdown",
   "metadata": {},
   "source": [
    "## Sorting\n",
    "Sorting algorithm"
   ]
  },
  {
   "cell_type": "markdown",
   "metadata": {},
   "source": [
    "### Quick Sort\n",
    "- Choose last item as \"pivot\"\n",
    "- Iterate through all item then put them to either left (less than pivot) or right (greater than pivot)\n",
    "- Lock the pivot point\n",
    "- Do the above steps for either the left or right left over number in an array"
   ]
  },
  {
   "cell_type": "markdown",
   "metadata": {},
   "source": [
    "### Complexity \n",
    "- O(n^2) worst case\n",
    "- O(nlogn) average case"
   ]
  },
  {
   "cell_type": "code",
   "execution_count": 41,
   "metadata": {},
   "outputs": [],
   "source": [
    "def quick_sort(print_line:str,arr: list) -> list:\n",
    "  global counter\n",
    "  print(print_line,arr,\" Current Execution: \",counter)\n",
    "  counter += 1\n",
    "  \n",
    "  if len(arr) <= 1:\n",
    "    return arr\n",
    "  \n",
    "  pivot = arr.pop()\n",
    "  left_arr =[]\n",
    "  right_arr =[]\n",
    "  for n in arr:\n",
    "    if n < pivot :\n",
    "      left_arr.append(n)\n",
    "    else:\n",
    "      right_arr.append(n)\n",
    "  \n",
    "  return  quick_sort(\"left : \",left_arr) + [pivot] + quick_sort(\"right: \",right_arr)\n",
    "\n"
   ]
  },
  {
   "cell_type": "code",
   "execution_count": 42,
   "metadata": {},
   "outputs": [
    {
     "name": "stdout",
     "output_type": "stream",
     "text": [
      "Initial Input:  [1, 5, 6, 7, 9, 0]  Current Execution:  1\n",
      "left :  []  Current Execution:  2\n",
      "right:  [1, 5, 6, 7, 9]  Current Execution:  3\n",
      "left :  [1, 5, 6, 7]  Current Execution:  4\n",
      "left :  [1, 5, 6]  Current Execution:  5\n",
      "left :  [1, 5]  Current Execution:  6\n",
      "left :  [1]  Current Execution:  7\n",
      "right:  []  Current Execution:  8\n",
      "right:  []  Current Execution:  9\n",
      "right:  []  Current Execution:  10\n",
      "right:  []  Current Execution:  11\n",
      "[0, 1, 5, 6, 7, 9]\n",
      "---------------\n",
      "Initial Input:  [1, 5, 6, 7, 9, 0, 2, 3, 5, 1, 9, 5, 3]  Current Execution:  1\n",
      "left :  [1, 0, 2, 1]  Current Execution:  2\n",
      "left :  [0]  Current Execution:  3\n",
      "right:  [1, 2]  Current Execution:  4\n",
      "left :  [1]  Current Execution:  5\n",
      "right:  []  Current Execution:  6\n",
      "right:  [5, 6, 7, 9, 3, 5, 9, 5]  Current Execution:  7\n",
      "left :  [3]  Current Execution:  8\n",
      "right:  [5, 6, 7, 9, 5, 9]  Current Execution:  9\n",
      "left :  [5, 6, 7, 5]  Current Execution:  10\n",
      "left :  []  Current Execution:  11\n",
      "right:  [5, 6, 7]  Current Execution:  12\n",
      "left :  [5, 6]  Current Execution:  13\n",
      "left :  [5]  Current Execution:  14\n",
      "right:  []  Current Execution:  15\n",
      "right:  []  Current Execution:  16\n",
      "right:  [9]  Current Execution:  17\n",
      "[0, 1, 1, 2, 3, 3, 5, 5, 5, 6, 7, 9, 9]\n"
     ]
    }
   ],
   "source": [
    "# test case 1\n",
    "counter = 1\n",
    "test = [1,5,6,7,9,0]\n",
    "print(quick_sort(\"Initial Input: \",test))\n",
    "print(\"---------------\")\n",
    "# test case 2\n",
    "counter = 1\n",
    "test = [1,5,6,7,9,0,2,3,5,1,9,5,3]\n",
    "print(quick_sort(\"Initial Input: \",test))"
   ]
  }
 ],
 "metadata": {
  "kernelspec": {
   "display_name": "Python 3.9.5 64-bit",
   "language": "python",
   "name": "python3"
  },
  "language_info": {
   "codemirror_mode": {
    "name": "ipython",
    "version": 3
   },
   "file_extension": ".py",
   "mimetype": "text/x-python",
   "name": "python",
   "nbconvert_exporter": "python",
   "pygments_lexer": "ipython3",
   "version": "3.9.5"
  },
  "orig_nbformat": 4,
  "vscode": {
   "interpreter": {
    "hash": "81794d4967e6c3204c66dcd87b604927b115b27c00565d3d43f05ba2f3a2cb0d"
   }
  }
 },
 "nbformat": 4,
 "nbformat_minor": 2
}
